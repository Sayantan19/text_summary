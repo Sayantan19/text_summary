{
 "cells": [
  {
   "cell_type": "code",
   "execution_count": 70,
   "metadata": {},
   "outputs": [],
   "source": [
    "from newspaper import Article\n",
    "\n",
    "# url = 'https://mail.google.com/mail/u/0/#inbox/FMfcgzGrblfMqlwsbGqKfjhrFprmslSG'\n",
    "# url = 'https://www.healthline.com/nutrition/foods/bananas#:~:text=Bananas%20are%20among%20the%20most,and%20various%20antioxidants%20and%20phytonutrients.'\n",
    "# article = Article(url)\n",
    "article = \"\"\"Dear valued stakeholders,\n",
    "We are pleased to report that our company has achieved significant progress in the past year. We have worked tirelessly to achieve our goals and remain committed to delivering the best possible outcomes for our customers, employees, and shareholders.\n",
    "As a company, we understand that the world around us is constantly changing, and we are continuously adapting to meet the evolving needs of our customers. We have developed new products, expanded our services, and improved our processes to better serve our clients.\n",
    "In the past year, we have increased our customer base by 20%, thanks to our commitment to delivering quality products and services. We have invested heavily in research and development to create innovative solutions that meet the needs of our customers, and we are proud of the results we have achieved.\n",
    "Our commitment to sustainability has also been a key focus for us in the past year. We have implemented new programs to reduce our carbon footprint and increase our use of renewable energy sources. We believe that it is our responsibility as a company to take action and protect the environment for future generations.\n",
    "Our employees are the backbone of our company, and we are committed to providing them with a safe and supportive work environment. We have implemented new programs to support employee wellness, including mental health resources and flexible work arrangements.\n",
    "In addition, we have invested heavily in training and development programs to help our employees grow and succeed in their careers. We believe that investing in our employees is essential to the long-term success of our company.\n",
    "We are also committed to creating value for our shareholders. We have delivered strong financial results in the past year, with a 15% increase in revenue and a 20% increase in net profit. We are confident that we can continue to deliver value for our shareholders in the years to come.\n",
    "Looking ahead, we remain committed to our vision of becoming a leader in our industry. We will continue to invest in research and development, sustainability, employee development, and other areas that are critical to our success.\n",
    "We believe that our success is built on our core values of integrity, innovation, and excellence. We are committed to upholding these values in everything we do, and we believe that they are the key to our long-term success.\n",
    "In closing, we would like to thank our employees, customers, and shareholders for their continued support. We are excited about the future of our company and look forward to delivering continued success in the years to come.\n",
    "Sincerely,\n",
    "Bose Industries.Inc\"\"\"\n",
    "# article.download()\n",
    "# article.parse()\n"
   ]
  },
  {
   "cell_type": "code",
   "execution_count": 71,
   "metadata": {
    "scrolled": true
   },
   "outputs": [
    {
     "data": {
      "text/plain": [
       "'Dear valued stakeholders,\\nWe are pleased to report that our company has achieved significant progress in the past year. We have worked tirelessly to achieve our goals and remain committed to delivering the best possible outcomes for our customers, employees, and shareholders.\\nAs a company, we understand that the world around us is constantly changing, and we are continuously adapting to meet the evolving needs of our customers. We have developed new products, expanded our services, and improved our processes to better serve our clients.\\nIn the past year, we have increased our customer base by 20%, thanks to our commitment to delivering quality products and services. We have invested heavily in research and development to create innovative solutions that meet the needs of our customers, and we are proud of the results we have achieved.\\nOur commitment to sustainability has also been a key focus for us in the past year. We have implemented new programs to reduce our carbon footprint and increase our use of renewable energy sources. We believe that it is our responsibility as a company to take action and protect the environment for future generations.\\nOur employees are the backbone of our company, and we are committed to providing them with a safe and supportive work environment. We have implemented new programs to support employee wellness, including mental health resources and flexible work arrangements.\\nIn addition, we have invested heavily in training and development programs to help our employees grow and succeed in their careers. We believe that investing in our employees is essential to the long-term success of our company.\\nWe are also committed to creating value for our shareholders. We have delivered strong financial results in the past year, with a 15% increase in revenue and a 20% increase in net profit. We are confident that we can continue to deliver value for our shareholders in the years to come.\\nLooking ahead, we remain committed to our vision of becoming a leader in our industry. We will continue to invest in research and development, sustainability, employee development, and other areas that are critical to our success.\\nWe believe that our success is built on our core values of integrity, innovation, and excellence. We are committed to upholding these values in everything we do, and we believe that they are the key to our long-term success.\\nIn closing, we would like to thank our employees, customers, and shareholders for their continued support. We are excited about the future of our company and look forward to delivering continued success in the years to come.\\nSincerely,\\nBose Industries.Inc'"
      ]
     },
     "execution_count": 71,
     "metadata": {},
     "output_type": "execute_result"
    }
   ],
   "source": [
    "article\n",
    "# article.text"
   ]
  },
  {
   "cell_type": "code",
   "execution_count": 56,
   "metadata": {},
   "outputs": [],
   "source": [
    "import spacy\n",
    "from spacy.lang.en.stop_words import STOP_WORDS\n",
    "from string import punctuation\n",
    "from heapq import nlargest\n",
    "from collections import Counter"
   ]
  },
  {
   "cell_type": "code",
   "execution_count": 72,
   "metadata": {},
   "outputs": [],
   "source": [
    "def summarize(text, per):\n",
    "    nlp = spacy.load('en_core_web_sm')\n",
    "    doc= nlp(text)\n",
    "    tokens=[token.text for token in doc]\n",
    "    word_frequencies={}\n",
    "\n",
    "    for word in doc:\n",
    "        if word.text.lower() not in list(STOP_WORDS):\n",
    "            if word.text.lower() not in punctuation:\n",
    "                if word.text not in word_frequencies.keys():\n",
    "                    word_frequencies[word.text] = 1\n",
    "                else:\n",
    "                    word_frequencies[word.text] += 1\n",
    "\n",
    "    max_frequency=max(word_frequencies.values())\n",
    "\n",
    "    for word in word_frequencies.keys():\n",
    "        word_frequencies[word]=word_frequencies[word]/max_frequency\n",
    "\n",
    "    # print(word_frequencies)\n",
    "    sentence_tokens= [sent for sent in doc.sents]\n",
    "    sentence_scores = {}\n",
    "    for sent in sentence_tokens:\n",
    "        for word in sent:\n",
    "            if word.text.lower() in word_frequencies.keys():\n",
    "                if sent not in sentence_scores.keys():                            \n",
    "                    sentence_scores[sent]=word_frequencies[word.text.lower()]\n",
    "                else:\n",
    "                    sentence_scores[sent]+=word_frequencies[word.text.lower()]\n",
    "    select_length=int(len(sentence_tokens)*per)\n",
    "    summary=nlargest(select_length, sentence_scores,key=sentence_scores.get)\n",
    "    final_summary=[word.text for word in summary]\n",
    "    summary=''.join(final_summary)\n",
    "    return summary "
   ]
  },
  {
   "cell_type": "code",
   "execution_count": 75,
   "metadata": {
    "scrolled": true
   },
   "outputs": [
    {
     "name": "stdout",
     "output_type": "stream",
     "text": [
      "We have worked tirelessly to achieve our goals and remain committed to delivering the best possible outcomes for our customers, employees, and shareholders.\n",
      "We believe that investing in our employees is essential to the long-term success of our company.\n",
      "We have invested heavily in research and development to create innovative solutions that meet the needs of our customers, and we are proud of the results we have achieved.\n",
      "We are excited about the future of our company and look forward to delivering continued success in the years to come.\n",
      "We will continue to invest in research and development, sustainability, employee development, and other areas that are critical to our success.\n",
      "We are committed to upholding these values in everything we do, and we believe that they are the key to our long-term success.\n",
      "Dear valued stakeholders,\n",
      "We are pleased to report that our company has achieved significant progress in the past year.We have implemented new programs to support employee wellness, including mental health resources and flexible work arrangements.\n",
      "We believe that it is our responsibility as a company to take action and protect the environment for future generations.\n",
      "\n"
     ]
    }
   ],
   "source": [
    "# summarize(article.text, 0.05)\n",
    "print(summarize(article, 0.4))"
   ]
  },
  {
   "cell_type": "code",
   "execution_count": 77,
   "metadata": {},
   "outputs": [
    {
     "name": "stdout",
     "output_type": "stream",
     "text": [
      "PROPER NOUNS EXTRACTED :\n",
      "['goals', 'customers', 'employees', 'shareholders', 'solutions', 'results', 'look', 'years', 'areas', 'values', 'Dear', 'stakeholders', 'programs', 'resources', 'arrangements', 'take', 'generations', 'products', 'services', 'processes', 'clients', 'deliver']\n"
     ]
    }
   ],
   "source": [
    "# Importing the required libraries\n",
    "import nltk \n",
    "from nltk.corpus import stopwords \n",
    "from nltk.tokenize import word_tokenize, sent_tokenize \n",
    "\n",
    "# Function to extract the proper nouns \n",
    "\n",
    "def ProperNounExtractor(text):\n",
    "    \n",
    "    print('PROPER NOUNS EXTRACTED :')\n",
    "    \n",
    "    sentences = nltk.sent_tokenize(text)\n",
    "    ftag = []\n",
    "    for sentence in sentences:\n",
    "        words = nltk.word_tokenize(sentence)\n",
    "        words = [word for word in words if word not in set(stopwords.words('english'))]\n",
    "        tagged = nltk.pos_tag(words)\n",
    "        for (word, tag) in tagged:\n",
    "            if ((tag == 'NNP' or tag == 'NNS' or tag == 'VB') and word not in ftag): # If the word is a proper noun\n",
    "                if(word.find(\".\")!=-1):\n",
    "                    x = word[0:word.find(\".\")]\n",
    "                    if(x not in ftag):\n",
    "                        ftag.append(x)\n",
    "                else:\n",
    "                    ftag.append(word)\n",
    "        \n",
    "    print(ftag)\n",
    "\n",
    "ProperNounExtractor(summarize(article,0.5))"
   ]
  }
 ],
 "metadata": {
  "kernelspec": {
   "display_name": "Python 3",
   "language": "python",
   "name": "python3"
  },
  "language_info": {
   "codemirror_mode": {
    "name": "ipython",
    "version": 3
   },
   "file_extension": ".py",
   "mimetype": "text/x-python",
   "name": "python",
   "nbconvert_exporter": "python",
   "pygments_lexer": "ipython3",
   "version": "3.10.10"
  },
  "vscode": {
   "interpreter": {
    "hash": "bfe58866a8af84f75900a441495a46f5d85ea2f56e7e3b43e957eee06bcbc9d0"
   }
  }
 },
 "nbformat": 4,
 "nbformat_minor": 2
}
